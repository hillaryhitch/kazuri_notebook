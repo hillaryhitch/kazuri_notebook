{
 "cells": [
  {
   "cell_type": "code",
   "execution_count": 8,
   "id": "f37bfde6-5449-4a62-993e-ed71ef86d171",
   "metadata": {},
   "outputs": [
    {
     "name": "stdout",
     "output_type": "stream",
     "text": [
      "Code extracted and inserted into new cell.\n",
      "Check cell below for generated code\n"
     ]
    }
   ],
   "source": [
    "from kazuri import kazuri\n",
    "kazuri(\"create a python function with parallelism that takes a dataframe and gets groupby sums for all columns on column 'msisdn' add prefix as '_sum'\")"
   ]
  },
  {
   "cell_type": "code",
   "execution_count": null,
   "id": "3dffa033-f7e8-472b-817b-6da0e1f1dec0",
   "metadata": {},
   "outputs": [],
   "source": [
    "import pandas as pd\n",
    "import numpy as np\n",
    "from concurrent.futures import ProcessPoolExecutor\n",
    "from functools import partial\n",
    "\n",
    "def parallel_groupby_sum(df: pd.DataFrame, num_partitions: int = 4) -> pd.DataFrame:\n",
    "    \"\"\"\n",
    "    Perform parallel groupby sum operation on all columns of a DataFrame.\n",
    "\n",
    "    Args:\n",
    "        df (pd.DataFrame): Input DataFrame.\n",
    "        num_partitions (int): Number of partitions for parallel processing.\n",
    "\n",
    "    Returns:\n",
    "        pd.DataFrame: DataFrame with groupby sums and '_sum' prefix added to column names.\n",
    "    \"\"\"\n",
    "\n",
    "    def _groupby_sum(df_chunk: pd.DataFrame) -> pd.DataFrame:\n",
    "        return df_chunk.groupby('msisdn').sum().add_prefix('_sum')\n",
    "\n",
    "    # Split the DataFrame into chunks\n",
    "    df_split = np.array_split(df, num_partitions)\n",
    "\n",
    "    # Perform parallel groupby sum\n",
    "    with ProcessPoolExecutor() as executor:\n",
    "        results = list(executor.map(_groupby_sum, df_split))\n",
    "\n",
    "    # Combine results and reset index\n",
    "    result_df = pd.concat(results).groupby(level=0).sum().reset_index()\n",
    "\n",
    "    return result_df\n",
    "\n",
    "# Example usage\n",
    "if __name__ == \"__main__\":\n",
    "    # Create a sample DataFrame\n",
    "    data = {\n",
    "        'msisdn': ['A', 'B', 'A', 'C', 'B', 'C'],\n",
    "        'value1': [1, 2, 3, 4, 5, 6],\n",
    "        'value2': [10, 20, 30, 40, 50, 60]\n",
    "    }\n",
    "    df = pd.DataFrame(data)\n",
    "\n",
    "    # Call the function\n",
    "    result = parallel_groupby_sum(df)\n",
    "    print(result)"
   ]
  },
  {
   "cell_type": "code",
   "execution_count": null,
   "id": "6e27c24f-200f-4900-ae93-3438f0ffe91d",
   "metadata": {},
   "outputs": [],
   "source": []
  }
 ],
 "metadata": {
  "kernelspec": {
   "display_name": "kazuri_env",
   "language": "python",
   "name": "kazuri_env"
  },
  "language_info": {
   "codemirror_mode": {
    "name": "ipython",
    "version": 3
   },
   "file_extension": ".py",
   "mimetype": "text/x-python",
   "name": "python",
   "nbconvert_exporter": "python",
   "pygments_lexer": "ipython3",
   "version": "3.10.9"
  }
 },
 "nbformat": 4,
 "nbformat_minor": 5
}
